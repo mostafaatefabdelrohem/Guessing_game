{
  "nbformat": 4,
  "nbformat_minor": 0,
  "metadata": {
    "colab": {
      "provenance": []
    },
    "kernelspec": {
      "name": "python3",
      "display_name": "Python 3"
    },
    "language_info": {
      "name": "python"
    }
  },
  "cells": [
    {
      "cell_type": "markdown",
      "source": [
        "# **Guessing game**"
      ],
      "metadata": {
        "id": "E4KDYhTDyCor"
      }
    },
    {
      "cell_type": "code",
      "execution_count": 3,
      "metadata": {
        "id": "CNm_xWM7wtpx"
      },
      "outputs": [],
      "source": [
        "import random"
      ]
    },
    {
      "cell_type": "code",
      "source": [
        "actual =random.randint(0,100)\n",
        "actual"
      ],
      "metadata": {
        "colab": {
          "base_uri": "https://localhost:8080/"
        },
        "id": "6_UbA_YNw8BS",
        "outputId": "fef688be-e094-47ac-a528-2f2fac034ca6"
      },
      "execution_count": 4,
      "outputs": [
        {
          "output_type": "execute_result",
          "data": {
            "text/plain": [
              "68"
            ]
          },
          "metadata": {},
          "execution_count": 4
        }
      ]
    },
    {
      "cell_type": "code",
      "source": [
        "guess = int(input(\"Please enter your guess\"))"
      ],
      "metadata": {
        "colab": {
          "base_uri": "https://localhost:8080/"
        },
        "id": "AIEj1LtGxBzK",
        "outputId": "ed0bf072-3187-425c-ff33-8667d4ce594a"
      },
      "execution_count": 5,
      "outputs": [
        {
          "name": "stdout",
          "output_type": "stream",
          "text": [
            "Please enter your guess56\n"
          ]
        }
      ]
    },
    {
      "cell_type": "code",
      "source": [
        "guesses = []\n",
        "while True:\n",
        "    try:\n",
        "        guess= int(input(\"Please enter your guess  \"))\n",
        "    except ValueError:\n",
        "        print(\"You did not enter number\")\n",
        "        continue\n",
        "    if (guess>100) or (guess <0):\n",
        "        guesses.append(guess)\n",
        "        print(\"number out of the range\")\n",
        "        continue\n",
        "    if guess == actual:\n",
        "        print(\"You guessed the correct number\")\n",
        "        guesses.append(guess)\n",
        "        break\n",
        "    elif len(guesses)<=0:\n",
        "        print (\"This is the first guess keep going\")\n",
        "        guesses.append(guess)\n",
        "    elif abs(guess- actual) > abs(guesses[-1] - actual):\n",
        "        print(\"you are getting further\")\n",
        "        guesses.append(guess)\n",
        "    else:\n",
        "        print(\"your are getting closer\")\n",
        "        guesses.append(guess)"
      ],
      "metadata": {
        "colab": {
          "base_uri": "https://localhost:8080/"
        },
        "id": "5Q-G-77xxCR1",
        "outputId": "a7cf8020-120a-4b35-c0c9-06e557075ef0"
      },
      "execution_count": 27,
      "outputs": [
        {
          "output_type": "stream",
          "name": "stdout",
          "text": [
            "Please enter your guess  f\n",
            "You did not enter number\n",
            "Please enter your guess  68\n",
            "You guessed the correct number\n"
          ]
        }
      ]
    },
    {
      "cell_type": "code",
      "source": [
        "guesses = []\n",
        "while True:\n",
        "    try:\n",
        "        guess= int(input(\"Please enter your guess  \"))\n",
        "    except ValueError:\n",
        "        print(\"You did not enter number\")\n",
        "        continue\n",
        "    if (guess>100) or (guess <0):\n",
        "        guesses.append(guess)\n",
        "        print(\"number out of the range\")\n",
        "        continue\n",
        "    if guess == actual:\n",
        "        print(\"You guessed the correct number\")\n",
        "        guesses.append(guess)\n",
        "        break\n",
        "    elif len(guesses)<=0:\n",
        "        print (\"This is the first guess keep going\")\n",
        "        guesses.append(guess)\n",
        "    elif abs(guess- actual) > abs(guesses[-1]- actual):\n",
        "        print(\"you are getting further\")\n",
        "        guesses.append(guess)\n",
        "    else:\n",
        "        print(\"your are getting closer\")\n",
        "        guesses.append(guess)"
      ],
      "metadata": {
        "colab": {
          "base_uri": "https://localhost:8080/"
        },
        "id": "XEvcG52MxNQo",
        "outputId": "f4bc21ab-8a53-4f99-d92f-a782d73847e0"
      },
      "execution_count": 29,
      "outputs": [
        {
          "output_type": "stream",
          "name": "stdout",
          "text": [
            "Please enter your guess  40\n",
            "This is the first guess keep going\n",
            "Please enter your guess  50\n",
            "your are getting closer\n",
            "Please enter your guess  60\n",
            "your are getting closer\n",
            "Please enter your guess  80\n",
            "you are getting further\n",
            "Please enter your guess  70\n",
            "your are getting closer\n",
            "Please enter your guess  68\n",
            "You guessed the correct number\n"
          ]
        }
      ]
    },
    {
      "cell_type": "code",
      "source": [],
      "metadata": {
        "id": "CyM28vydp5ky"
      },
      "execution_count": null,
      "outputs": []
    }
  ]
}